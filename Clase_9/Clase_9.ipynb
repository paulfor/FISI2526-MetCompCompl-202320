{
 "cells": [
  {
   "cell_type": "markdown",
   "metadata": {},
   "source": [
    "## Matrices y eliminación de Gauss Jordan\n",
    "\n",
    "Un sistema de ecuaciones lineales de $n$ variables se puede escribir \n",
    "\n",
    "$$\n",
    "\\begin{align*}\n",
    "A \\mathbf{x} = \\mathbf{b}\n",
    "\\end{align*}\n",
    "$$\n",
    "\n",
    "donde $A \\in \\mathbb{M}_{n \\times n}$ y $\\mathbf{x}, \\mathbf{b}$ son vectores en $\\mathbb{R}^n$. El método de eliminación de Gauss Jordan consiste en realizar operaciones elementales sobre la matriz extendida $[A|\\mathbf{b}]$ hasta obtener una matriz triangular superior. Entonces, un sistema de ecuaciones lineales\n",
    "\n",
    "$$\n",
    "\\begin{cases}\n",
    "& 2x_0 + x_1 + x_2 = 8 \\\\ \n",
    "& x_0 + x_1 -2x_2 = -2 \\\\\n",
    "& 5x_0 + 10x_1 +5x_2 = 10\n",
    "\\end{cases}\n",
    "$$\n",
    "\n",
    "se puede reescribir de forma matricial \n",
    "\n",
    "$$\n",
    "A = \\begin{bmatrix}\n",
    "2 & 1 & 1 \\\\\n",
    "1 & 1 & -2 \\\\\n",
    "5 &10 & 5\n",
    "\\end{bmatrix} \\qquad \\qquad \\mathbf{x} = \\begin{bmatrix} x_0 \\\\ x_1 \\\\ x_2 \\end{bmatrix} \\qquad \\qquad \\mathbf{b} = \\begin{bmatrix} 8 \\\\ -2 \\\\ 10 \\end{bmatrix}\n",
    "$$\n",
    "\n",
    "Siguiendo el algoritmo de Gauss, podemos llegar a la versión reducida utilizando operaciones elementales de fila, es decir reemplazando la fila $i$-ésima por\n",
    "\n",
    "$$\n",
    "R_i^\\prime = R_i + kR_j\n",
    "$$\n",
    "\n",
    "Para al final obtener\n",
    "\n",
    "$$\n",
    "[A|b] = \\left[ \\begin{array}{ccc|c}\n",
    "2 & 1 & 1 & 8 \\\\\n",
    "0 & 0.5 & -2.5 & -6 \\\\\n",
    "0 &0 & 40 & 80\n",
    "\\end{array} \\right]\n",
    "$$\n",
    "\n",
    "donde la solución es casi trivial. El reto de la clase de hoy será escribir el algoritmo que retorne las matrices de su forma reducida."
   ]
  },
  {
   "cell_type": "markdown",
   "metadata": {},
   "source": [
    "En primer lugar, debemos recorrer todas las columnas menos la última de la matriz $A$, y para cada una de estas recorrer todas las filas desde la que está debajo de la diagonal hasta el final."
   ]
  },
  {
   "cell_type": "code",
   "execution_count": 42,
   "metadata": {},
   "outputs": [],
   "source": [
    "import numpy as np"
   ]
  },
  {
   "cell_type": "code",
   "execution_count": 43,
   "metadata": {},
   "outputs": [],
   "source": [
    "A = np.array([[2,1,1],\\\n",
    "     [1,1,-2],\n",
    "     [5,10,5]])"
   ]
  },
  {
   "cell_type": "code",
   "execution_count": 44,
   "metadata": {},
   "outputs": [
    {
     "data": {
      "text/plain": [
       "array([[ 2,  1,  1],\n",
       "       [ 1,  1, -2],\n",
       "       [ 5, 10,  5]])"
      ]
     },
     "execution_count": 44,
     "metadata": {},
     "output_type": "execute_result"
    }
   ],
   "source": [
    "A"
   ]
  },
  {
   "cell_type": "code",
   "execution_count": 63,
   "metadata": {},
   "outputs": [],
   "source": [
    "b = np.array([8,-2,10])"
   ]
  },
  {
   "cell_type": "code",
   "execution_count": 64,
   "metadata": {},
   "outputs": [
    {
     "data": {
      "text/plain": [
       "array([ 8, -2, 10])"
      ]
     },
     "execution_count": 64,
     "metadata": {},
     "output_type": "execute_result"
    }
   ],
   "source": [
    "b"
   ]
  },
  {
   "cell_type": "code",
   "execution_count": 65,
   "metadata": {},
   "outputs": [],
   "source": [
    "n = np.shape(A)[0]\n",
    "M = np.zeros(shape=(n,n+1))"
   ]
  },
  {
   "cell_type": "code",
   "execution_count": 66,
   "metadata": {},
   "outputs": [
    {
     "data": {
      "text/plain": [
       "array([[0., 0., 0., 0.],\n",
       "       [0., 0., 0., 0.],\n",
       "       [0., 0., 0., 0.]])"
      ]
     },
     "execution_count": 66,
     "metadata": {},
     "output_type": "execute_result"
    }
   ],
   "source": [
    "M"
   ]
  },
  {
   "cell_type": "code",
   "execution_count": 67,
   "metadata": {},
   "outputs": [],
   "source": [
    "M[:,0:n] = A"
   ]
  },
  {
   "cell_type": "code",
   "execution_count": 68,
   "metadata": {},
   "outputs": [
    {
     "data": {
      "text/plain": [
       "array([[ 2.,  1.,  1.,  0.],\n",
       "       [ 1.,  1., -2.,  0.],\n",
       "       [ 5., 10.,  5.,  0.]])"
      ]
     },
     "execution_count": 68,
     "metadata": {},
     "output_type": "execute_result"
    }
   ],
   "source": [
    "M"
   ]
  },
  {
   "cell_type": "code",
   "execution_count": 69,
   "metadata": {},
   "outputs": [],
   "source": [
    "M[:,n] = b"
   ]
  },
  {
   "cell_type": "code",
   "execution_count": 70,
   "metadata": {},
   "outputs": [
    {
     "data": {
      "text/plain": [
       "array([[ 2.,  1.,  1.,  8.],\n",
       "       [ 1.,  1., -2., -2.],\n",
       "       [ 5., 10.,  5., 10.]])"
      ]
     },
     "execution_count": 70,
     "metadata": {},
     "output_type": "execute_result"
    }
   ],
   "source": [
    "M"
   ]
  },
  {
   "cell_type": "code",
   "execution_count": 75,
   "metadata": {},
   "outputs": [
    {
     "name": "stdout",
     "output_type": "stream",
     "text": [
      "1 0\n",
      "2 0\n",
      "2 1\n"
     ]
    }
   ],
   "source": [
    "# j son columnas, i son filas\n",
    "for j in range(n-1):\n",
    "    for i in range(j+1,n):\n",
    "        print(i,j)"
   ]
  },
  {
   "cell_type": "code",
   "execution_count": null,
   "metadata": {},
   "outputs": [],
   "source": []
  }
 ],
 "metadata": {
  "kernelspec": {
   "display_name": "Python 3",
   "language": "python",
   "name": "python3"
  },
  "language_info": {
   "codemirror_mode": {
    "name": "ipython",
    "version": 3
   },
   "file_extension": ".py",
   "mimetype": "text/x-python",
   "name": "python",
   "nbconvert_exporter": "python",
   "pygments_lexer": "ipython3",
   "version": "3.10.8"
  }
 },
 "nbformat": 4,
 "nbformat_minor": 2
}
