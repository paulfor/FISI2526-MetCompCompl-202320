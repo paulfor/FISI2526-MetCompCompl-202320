{
  "nbformat": 4,
  "nbformat_minor": 0,
  "metadata": {
    "colab": {
      "provenance": []
    },
    "kernelspec": {
      "name": "python3",
      "display_name": "Python 3"
    },
    "language_info": {
      "name": "python"
    }
  },
  "cells": [
    {
      "cell_type": "code",
      "execution_count": 77,
      "metadata": {
        "id": "0ThmgreRLp4b"
      },
      "outputs": [],
      "source": [
        "import numpy as np\n",
        "\n",
        "\n",
        "A = np.array([[2,1,1],\\\n",
        "     [0,1/2,-5/2],\n",
        "     [0,0,40]])\n",
        "\n",
        "paso_i = 0\n",
        "paso_j = 0\n",
        "\n",
        "for i in A:\n",
        "  paso_i+=1\n",
        "  #print(\"Paso en i\" +str(paso_i) + \":\" + str(i))\n",
        "\n",
        "  for j in A:\n",
        "    paso_j+=1\n",
        "    #print(\"Paso en j\" +str(paso_j) + \":\" + str(j))\n"
      ]
    },
    {
      "cell_type": "code",
      "source": [
        "A = np.array([[2,1,1]])\n",
        "\n",
        "for i in A:\n",
        "  print(i)\n",
        "  test = zip(A)\n",
        "  print(test)"
      ],
      "metadata": {
        "colab": {
          "base_uri": "https://localhost:8080/"
        },
        "id": "z_GrbtxUf9lF",
        "outputId": "3123a391-ecac-4f02-c391-ecbed8091f46"
      },
      "execution_count": 78,
      "outputs": [
        {
          "output_type": "stream",
          "name": "stdout",
          "text": [
            "[2 1 1]\n",
            "<zip object at 0x7c3284ea6c40>\n"
          ]
        }
      ]
    },
    {
      "cell_type": "code",
      "source": [
        "B = np.zeros(5)\n",
        "\n",
        "print(B)"
      ],
      "metadata": {
        "colab": {
          "base_uri": "https://localhost:8080/"
        },
        "id": "P5EkoAyu_phx",
        "outputId": "bfb1ce35-db98-4494-ddc6-c6c49bd6e68f"
      },
      "execution_count": 79,
      "outputs": [
        {
          "output_type": "stream",
          "name": "stdout",
          "text": [
            "[0. 0. 0. 0. 0.]\n"
          ]
        }
      ]
    },
    {
      "cell_type": "code",
      "source": [
        "C = np.array([[1,2,-1],\n",
        "             [1,0,1],\n",
        "             [4,-4,5]])\n",
        "\n",
        "ValoresP, VectoresP = np.linalg.eig(C)\n",
        "\n",
        "print(\"Los valores propios son: \" + str(ValoresP))\n",
        "\n",
        "print(\"Los vectores propios: \" + str(VectoresP))"
      ],
      "metadata": {
        "colab": {
          "base_uri": "https://localhost:8080/"
        },
        "id": "_09xaGvhTZa7",
        "outputId": "bc7cc96e-b5cc-43e9-8fa8-7acdda5a1103"
      },
      "execution_count": 80,
      "outputs": [
        {
          "output_type": "stream",
          "name": "stdout",
          "text": [
            "Los valores propios son: [3. 2. 1.]\n",
            "Los vectores propios: [[-0.23570226  0.43643578  0.40824829]\n",
            " [ 0.23570226 -0.21821789 -0.40824829]\n",
            " [ 0.94280904 -0.87287156 -0.81649658]]\n"
          ]
        }
      ]
    },
    {
      "cell_type": "code",
      "source": [
        "A = np.array([1,2,-1])\n",
        "\n",
        "B = np.array([3,1,2])\n",
        "\n",
        "AB = np.dot(A, B)\n",
        "\n",
        "print(AB)"
      ],
      "metadata": {
        "colab": {
          "base_uri": "https://localhost:8080/"
        },
        "id": "cYC_0311VRmB",
        "outputId": "bd4548a0-1358-4ac9-8fee-b78e5e77097d"
      },
      "execution_count": 81,
      "outputs": [
        {
          "output_type": "stream",
          "name": "stdout",
          "text": [
            "3\n"
          ]
        }
      ]
    },
    {
      "cell_type": "code",
      "source": [
        "#k_11 = k_22 = k_33 = -2*k\n",
        "\n",
        "A = 2\n",
        "\n",
        "#k_12 = k_21 = k_23 = k_32 = k\n",
        "\n",
        "B = 4\n",
        "\n",
        "#k_13 = k_31 = 0\n",
        "\n",
        "C = 6\n",
        "\n",
        "\n",
        "\n",
        "M = np.array([[A,B,C],\n",
        "             [B,A,B],\n",
        "             [C,B,A]])\n",
        "\n",
        "print(M)"
      ],
      "metadata": {
        "colab": {
          "base_uri": "https://localhost:8080/"
        },
        "id": "Xq2ETJGQa6bi",
        "outputId": "30b4acce-af69-4cc5-a36a-4967486a6ecb"
      },
      "execution_count": 82,
      "outputs": [
        {
          "output_type": "stream",
          "name": "stdout",
          "text": [
            "[[2 4 6]\n",
            " [4 2 4]\n",
            " [6 4 2]]\n"
          ]
        }
      ]
    },
    {
      "cell_type": "code",
      "source": [
        "#Desde aca hasta la ultima es el problema:\n",
        "\n",
        "q_0 = np.array([2,2,2])\n",
        "\n",
        "A = np.array([[1,2,-1],\n",
        "             [1,0,1],\n",
        "             [4,-4,5]])\n",
        "#Esta fue la matriz de prueba\n",
        "\n",
        "def valor_p(A,q0,tolerancia=2):\n",
        "  z_1 = A @ q_0\n",
        "  q_1=0\n",
        "  #Tambien servia z_1 = np.linalg.dot(A,q_0)\n",
        "  for i in range(int(1e5)):\n",
        "    norm_z =np.linalg.norm(z_1)\n",
        "    q_1 = z_1 / norm_z\n",
        "\n",
        "    Miu = q_1.T @ A @ q_1\n",
        "    z_1= A @ q_1\n",
        "\n",
        "  return np.round(Miu, tolerancia), q_1\n"
      ],
      "metadata": {
        "id": "V1w9gf5u_YPH"
      },
      "execution_count": 142,
      "outputs": []
    },
    {
      "cell_type": "code",
      "source": [
        "max, vmax=valor_p(A,q_0)\n",
        "\n",
        "min, vmin= valor_p(np.linalg.inv(A),q_0)"
      ],
      "metadata": {
        "id": "fFYvYE591o2u"
      },
      "execution_count": 143,
      "outputs": []
    },
    {
      "cell_type": "code",
      "source": [
        "print(max,vmax)\n",
        "print(1/min,vmin)"
      ],
      "metadata": {
        "colab": {
          "base_uri": "https://localhost:8080/"
        },
        "id": "fyJCUj0B5Vui",
        "outputId": "54b52624-d326-43ef-e75c-4c9fa3c7ebfe"
      },
      "execution_count": 144,
      "outputs": [
        {
          "output_type": "stream",
          "name": "stdout",
          "text": [
            "3.0 [-0.23570226  0.23570226  0.94280904]\n",
            "1.0 [-0.40824829  0.40824829  0.81649658]\n"
          ]
        }
      ]
    },
    {
      "cell_type": "code",
      "source": [
        "np.linalg.eig(A)"
      ],
      "metadata": {
        "colab": {
          "base_uri": "https://localhost:8080/"
        },
        "id": "aMTzfmdU1wIw",
        "outputId": "33d781f2-e956-464c-89ef-ff1a3d1cc35f"
      },
      "execution_count": 145,
      "outputs": [
        {
          "output_type": "execute_result",
          "data": {
            "text/plain": [
              "(array([3., 2., 1.]),\n",
              " array([[-0.23570226,  0.43643578,  0.40824829],\n",
              "        [ 0.23570226, -0.21821789, -0.40824829],\n",
              "        [ 0.94280904, -0.87287156, -0.81649658]]))"
            ]
          },
          "metadata": {},
          "execution_count": 145
        }
      ]
    },
    {
      "cell_type": "code",
      "source": [
        "M_1 = 2\n",
        "\n",
        "M_2 = 3\n",
        "\n",
        "M_3 = 4\n",
        "\n",
        "\n",
        "\n",
        "k_11, k_22, k_33 = -2,-2,-2\n",
        "\n",
        "k_12, k_21, k_23, k_32 = 1,1,1,1\n",
        "\n",
        "k_13, k_31 = 0,0\n",
        "\n",
        "\n",
        "M = np.array([[k_11/M_1,k_12/M_1,k_13/M_1],\n",
        "             [k_21/M_2,k_22/M_2,k_23/M_2],\n",
        "             [k_31/M_3,k_32/M_3,k_33/M_3]])\n",
        "\n",
        "maximo_valor , maximo_vector = valor_p(-M,q_0)\n",
        "\n",
        "minimo_valor , minimo_vector = valor_p(-np.linalg.inv(M),q_0)\n",
        "\n",
        "print(np.round(np.sqrt(maximo_valor),2) , maximo_vector, np.sqrt(1/minimo_valor) , minimo_vector)\n",
        "\n",
        "#El valor maximo y el minimo del problema dan valores un poco alejados a lo que me arroja np.linalg.eig(), contrario a la martriz de prueba la cual si da valores exactos en ambas."
      ],
      "metadata": {
        "colab": {
          "base_uri": "https://localhost:8080/"
        },
        "id": "IE_sBVko5_bV",
        "outputId": "14057d39-058b-482a-955c-e24d8ed1dbbc"
      },
      "execution_count": 146,
      "outputs": [
        {
          "output_type": "stream",
          "name": "stdout",
          "text": [
            "1.14 [ 0.83964254 -0.51892763  0.16035746] 0.43685202833051895 [0.43308473 0.70074581 0.56691527]\n"
          ]
        }
      ]
    },
    {
      "cell_type": "code",
      "source": [
        "valores,vectores=np.linalg.eigh(-M)\n",
        "np.sqrt(valores)\n"
      ],
      "metadata": {
        "colab": {
          "base_uri": "https://localhost:8080/"
        },
        "id": "sXKC4vHA-T5-",
        "outputId": "d7929193-e6e8-4fe9-8263-c0af6edf1713"
      },
      "execution_count": 147,
      "outputs": [
        {
          "output_type": "execute_result",
          "data": {
            "text/plain": [
              "array([0.50822168, 0.8226171 , 1.10981012])"
            ]
          },
          "metadata": {},
          "execution_count": 147
        }
      ]
    },
    {
      "cell_type": "code",
      "source": [],
      "metadata": {
        "id": "ouaQc12MDG_4"
      },
      "execution_count": null,
      "outputs": []
    }
  ]
}